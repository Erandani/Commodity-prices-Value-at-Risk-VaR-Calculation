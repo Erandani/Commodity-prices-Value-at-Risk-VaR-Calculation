{
  "nbformat": 4,
  "nbformat_minor": 0,
  "metadata": {
    "colab": {
      "provenance": []
    },
    "kernelspec": {
      "name": "python3",
      "display_name": "Python 3"
    },
    "language_info": {
      "name": "python"
    }
  },
  "cells": [
    {
      "cell_type": "markdown",
      "source": [
        "### **Value at Risk (VaR)**"
      ],
      "metadata": {
        "id": "PsjjlTpT1c2a"
      }
    },
    {
      "cell_type": "markdown",
      "source": [
        "Value at Risk (VaR) is a measure of the potential loss in an investment portfolio over a specific time horizon and at a given confidence level.\n",
        "\n",
        "VaR concentrates on the potential losses. We are not talking about actual or realized losses; rather, VaR is a kind of loss projection.\n",
        "\n",
        "VaR has three key ingredients:\n",
        "\n",
        "> Standard deviation that defines the level of loss.\n",
        "\n",
        "> Fixed time horizon over which risk is assessed.\n",
        "\n",
        "> Confidence interval."
      ],
      "metadata": {
        "id": "GWYGvGlX1njJ"
      }
    },
    {
      "cell_type": "markdown",
      "source": [
        "VaR can be measured via three different approaches:\n",
        "\n",
        "> Variance-covariance VaR\n",
        "\n",
        "> Historical simulation VaR\n",
        "\n",
        "> Monte Carlo VaR"
      ],
      "metadata": {
        "id": "UWmXfkxz2CMm"
      }
    },
    {
      "cell_type": "markdown",
      "source": [
        "Lets model differnt methods of VaR using Gold prices since 2020. VaR can be used to estimate the risk of an investment in gold prices by calculating the maximum amount of loss that could be expected with a given level of confidence. "
      ],
      "metadata": {
        "id": "ohAEQTofDlom"
      }
    },
    {
      "cell_type": "markdown",
      "source": [
        "### **1. Variance-Covariance Method**\n",
        "\n",
        "\n",
        "The variance-covariance method is also known as the parametric method,\n",
        "because observations are assumed to be normally distributed."
      ],
      "metadata": {
        "id": "d8vu09wV2YEf"
      }
    },
    {
      "cell_type": "code",
      "source": [
        "!pip install yfinance"
      ],
      "metadata": {
        "id": "7nkkoZk6uCRA"
      },
      "execution_count": null,
      "outputs": []
    },
    {
      "cell_type": "code",
      "source": [
        "import pandas as pd\n",
        "import numpy as np\n",
        "import yfinance as yf\n",
        "# from yahoofinancials import YahooFinancials\n",
        "import matplotlib.pyplot as plt\n",
        "\n",
        "from scipy.stats import norm\n",
        "import requests\n",
        "from io import StringIO\n",
        "import seaborn as sns; sns.set()\n",
        "import warnings\n",
        "warnings.filterwarnings('ignore')\n",
        "plt.rcParams['figure.figsize'] = (10,6)"
      ],
      "metadata": {
        "id": "NXJdPugsuYKH"
      },
      "execution_count": null,
      "outputs": []
    },
    {
      "cell_type": "code",
      "source": [
        "df = yf.download('GLD', '2020-01-01', '2023-01-31', auto_adjust=True)"
      ],
      "metadata": {
        "colab": {
          "base_uri": "https://localhost:8080/"
        },
        "id": "4-_0rBoJuNKr",
        "outputId": "af5379dc-57ee-46db-dc17-1c8fbc8008d0"
      },
      "execution_count": null,
      "outputs": [
        {
          "output_type": "stream",
          "name": "stdout",
          "text": [
            "\r[*********************100%***********************]  1 of 1 completed\n"
          ]
        }
      ]
    },
    {
      "cell_type": "code",
      "source": [
        "df.head()"
      ],
      "metadata": {
        "colab": {
          "base_uri": "https://localhost:8080/",
          "height": 237
        },
        "id": "GAZFUjgyuNU2",
        "outputId": "680fec60-5375-4e0b-8f7f-92a645ac0946"
      },
      "execution_count": null,
      "outputs": [
        {
          "output_type": "execute_result",
          "data": {
            "text/plain": [
              "                                 Open        High         Low       Close  \\\n",
              "Date                                                                        \n",
              "2020-01-02 00:00:00-05:00  143.860001  144.210007  143.399994  143.949997   \n",
              "2020-01-03 00:00:00-05:00  145.750000  146.320007  145.399994  145.860001   \n",
              "2020-01-06 00:00:00-05:00  148.440002  148.479996  146.949997  147.389999   \n",
              "2020-01-07 00:00:00-05:00  147.570007  148.139999  147.429993  147.970001   \n",
              "2020-01-08 00:00:00-05:00  148.490005  148.610001  146.139999  146.860001   \n",
              "\n",
              "                             Volume  \n",
              "Date                                 \n",
              "2020-01-02 00:00:00-05:00   7733800  \n",
              "2020-01-03 00:00:00-05:00  12272800  \n",
              "2020-01-06 00:00:00-05:00  14403300  \n",
              "2020-01-07 00:00:00-05:00   7978500  \n",
              "2020-01-08 00:00:00-05:00  22248500  "
            ],
            "text/html": [
              "\n",
              "  <div id=\"df-c99087ff-44ea-42ab-a11c-c097efe6e628\">\n",
              "    <div class=\"colab-df-container\">\n",
              "      <div>\n",
              "<style scoped>\n",
              "    .dataframe tbody tr th:only-of-type {\n",
              "        vertical-align: middle;\n",
              "    }\n",
              "\n",
              "    .dataframe tbody tr th {\n",
              "        vertical-align: top;\n",
              "    }\n",
              "\n",
              "    .dataframe thead th {\n",
              "        text-align: right;\n",
              "    }\n",
              "</style>\n",
              "<table border=\"1\" class=\"dataframe\">\n",
              "  <thead>\n",
              "    <tr style=\"text-align: right;\">\n",
              "      <th></th>\n",
              "      <th>Open</th>\n",
              "      <th>High</th>\n",
              "      <th>Low</th>\n",
              "      <th>Close</th>\n",
              "      <th>Volume</th>\n",
              "    </tr>\n",
              "    <tr>\n",
              "      <th>Date</th>\n",
              "      <th></th>\n",
              "      <th></th>\n",
              "      <th></th>\n",
              "      <th></th>\n",
              "      <th></th>\n",
              "    </tr>\n",
              "  </thead>\n",
              "  <tbody>\n",
              "    <tr>\n",
              "      <th>2020-01-02 00:00:00-05:00</th>\n",
              "      <td>143.860001</td>\n",
              "      <td>144.210007</td>\n",
              "      <td>143.399994</td>\n",
              "      <td>143.949997</td>\n",
              "      <td>7733800</td>\n",
              "    </tr>\n",
              "    <tr>\n",
              "      <th>2020-01-03 00:00:00-05:00</th>\n",
              "      <td>145.750000</td>\n",
              "      <td>146.320007</td>\n",
              "      <td>145.399994</td>\n",
              "      <td>145.860001</td>\n",
              "      <td>12272800</td>\n",
              "    </tr>\n",
              "    <tr>\n",
              "      <th>2020-01-06 00:00:00-05:00</th>\n",
              "      <td>148.440002</td>\n",
              "      <td>148.479996</td>\n",
              "      <td>146.949997</td>\n",
              "      <td>147.389999</td>\n",
              "      <td>14403300</td>\n",
              "    </tr>\n",
              "    <tr>\n",
              "      <th>2020-01-07 00:00:00-05:00</th>\n",
              "      <td>147.570007</td>\n",
              "      <td>148.139999</td>\n",
              "      <td>147.429993</td>\n",
              "      <td>147.970001</td>\n",
              "      <td>7978500</td>\n",
              "    </tr>\n",
              "    <tr>\n",
              "      <th>2020-01-08 00:00:00-05:00</th>\n",
              "      <td>148.490005</td>\n",
              "      <td>148.610001</td>\n",
              "      <td>146.139999</td>\n",
              "      <td>146.860001</td>\n",
              "      <td>22248500</td>\n",
              "    </tr>\n",
              "  </tbody>\n",
              "</table>\n",
              "</div>\n",
              "      <button class=\"colab-df-convert\" onclick=\"convertToInteractive('df-c99087ff-44ea-42ab-a11c-c097efe6e628')\"\n",
              "              title=\"Convert this dataframe to an interactive table.\"\n",
              "              style=\"display:none;\">\n",
              "        \n",
              "  <svg xmlns=\"http://www.w3.org/2000/svg\" height=\"24px\"viewBox=\"0 0 24 24\"\n",
              "       width=\"24px\">\n",
              "    <path d=\"M0 0h24v24H0V0z\" fill=\"none\"/>\n",
              "    <path d=\"M18.56 5.44l.94 2.06.94-2.06 2.06-.94-2.06-.94-.94-2.06-.94 2.06-2.06.94zm-11 1L8.5 8.5l.94-2.06 2.06-.94-2.06-.94L8.5 2.5l-.94 2.06-2.06.94zm10 10l.94 2.06.94-2.06 2.06-.94-2.06-.94-.94-2.06-.94 2.06-2.06.94z\"/><path d=\"M17.41 7.96l-1.37-1.37c-.4-.4-.92-.59-1.43-.59-.52 0-1.04.2-1.43.59L10.3 9.45l-7.72 7.72c-.78.78-.78 2.05 0 2.83L4 21.41c.39.39.9.59 1.41.59.51 0 1.02-.2 1.41-.59l7.78-7.78 2.81-2.81c.8-.78.8-2.07 0-2.86zM5.41 20L4 18.59l7.72-7.72 1.47 1.35L5.41 20z\"/>\n",
              "  </svg>\n",
              "      </button>\n",
              "      \n",
              "  <style>\n",
              "    .colab-df-container {\n",
              "      display:flex;\n",
              "      flex-wrap:wrap;\n",
              "      gap: 12px;\n",
              "    }\n",
              "\n",
              "    .colab-df-convert {\n",
              "      background-color: #E8F0FE;\n",
              "      border: none;\n",
              "      border-radius: 50%;\n",
              "      cursor: pointer;\n",
              "      display: none;\n",
              "      fill: #1967D2;\n",
              "      height: 32px;\n",
              "      padding: 0 0 0 0;\n",
              "      width: 32px;\n",
              "    }\n",
              "\n",
              "    .colab-df-convert:hover {\n",
              "      background-color: #E2EBFA;\n",
              "      box-shadow: 0px 1px 2px rgba(60, 64, 67, 0.3), 0px 1px 3px 1px rgba(60, 64, 67, 0.15);\n",
              "      fill: #174EA6;\n",
              "    }\n",
              "\n",
              "    [theme=dark] .colab-df-convert {\n",
              "      background-color: #3B4455;\n",
              "      fill: #D2E3FC;\n",
              "    }\n",
              "\n",
              "    [theme=dark] .colab-df-convert:hover {\n",
              "      background-color: #434B5C;\n",
              "      box-shadow: 0px 1px 3px 1px rgba(0, 0, 0, 0.15);\n",
              "      filter: drop-shadow(0px 1px 2px rgba(0, 0, 0, 0.3));\n",
              "      fill: #FFFFFF;\n",
              "    }\n",
              "  </style>\n",
              "\n",
              "      <script>\n",
              "        const buttonEl =\n",
              "          document.querySelector('#df-c99087ff-44ea-42ab-a11c-c097efe6e628 button.colab-df-convert');\n",
              "        buttonEl.style.display =\n",
              "          google.colab.kernel.accessAllowed ? 'block' : 'none';\n",
              "\n",
              "        async function convertToInteractive(key) {\n",
              "          const element = document.querySelector('#df-c99087ff-44ea-42ab-a11c-c097efe6e628');\n",
              "          const dataTable =\n",
              "            await google.colab.kernel.invokeFunction('convertToInteractive',\n",
              "                                                     [key], {});\n",
              "          if (!dataTable) return;\n",
              "\n",
              "          const docLinkHtml = 'Like what you see? Visit the ' +\n",
              "            '<a target=\"_blank\" href=https://colab.research.google.com/notebooks/data_table.ipynb>data table notebook</a>'\n",
              "            + ' to learn more about interactive tables.';\n",
              "          element.innerHTML = '';\n",
              "          dataTable['output_type'] = 'display_data';\n",
              "          await google.colab.output.renderOutput(dataTable, element);\n",
              "          const docLink = document.createElement('div');\n",
              "          docLink.innerHTML = docLinkHtml;\n",
              "          element.appendChild(docLink);\n",
              "        }\n",
              "      </script>\n",
              "    </div>\n",
              "  </div>\n",
              "  "
            ]
          },
          "metadata": {},
          "execution_count": 4
        }
      ]
    },
    {
      "cell_type": "code",
      "source": [
        "# Only keep close columns\n",
        "df = df[['Close']]\n",
        "\n",
        "# Drop rows with missing values\n",
        "df = df.dropna()\n",
        "\n",
        "# Plot the closing price of GLD\n",
        "df.Close.plot(figsize=(10, 7),color='r')\n",
        "plt.ylabel(\"Gold ETF Prices\")\n",
        "plt.title(\"Gold ETF Price Series\")\n",
        "plt.show()"
      ],
      "metadata": {
        "colab": {
          "base_uri": "https://localhost:8080/",
          "height": 448
        },
        "id": "fqaatPUfuoWh",
        "outputId": "c2e463d2-9f2f-49f5-a32a-471f07acb358"
      },
      "execution_count": null,
      "outputs": [
        {
          "output_type": "display_data",
          "data": {
            "text/plain": [
              "<Figure size 720x504 with 1 Axes>"
            ],
            "image/png": "[encoded data removed]"
          },
          "metadata": {}
        }
      ]
    },
    {
      "cell_type": "code",
      "source": [
        "df.head()"
      ],
      "metadata": {
        "colab": {
          "base_uri": "https://localhost:8080/",
          "height": 237
        },
        "id": "2LU-fU_8w5sh",
        "outputId": "9d70359c-45d1-45e0-cbd7-e47c4148e69e"
      },
      "execution_count": null,
      "outputs": [
        {
          "output_type": "execute_result",
          "data": {
            "text/plain": [
              "                                Close\n",
              "Date                                 \n",
              "2020-01-02 00:00:00-05:00  143.949997\n",
              "2020-01-03 00:00:00-05:00  145.860001\n",
              "2020-01-06 00:00:00-05:00  147.389999\n",
              "2020-01-07 00:00:00-05:00  147.970001\n",
              "2020-01-08 00:00:00-05:00  146.860001"
            ],
            "text/html": [
              "\n",
              "  <div id=\"df-a8425754-b87b-4764-af0e-fa3df54b984e\">\n",
              "    <div class=\"colab-df-container\">\n",
              "      <div>\n",
              "<style scoped>\n",
              "    .dataframe tbody tr th:only-of-type {\n",
              "        vertical-align: middle;\n",
              "    }\n",
              "\n",
              "    .dataframe tbody tr th {\n",
              "        vertical-align: top;\n",
              "    }\n",
              "\n",
              "    .dataframe thead th {\n",
              "        text-align: right;\n",
              "    }\n",
              "</style>\n",
              "<table border=\"1\" class=\"dataframe\">\n",
              "  <thead>\n",
              "    <tr style=\"text-align: right;\">\n",
              "      <th></th>\n",
              "      <th>Close</th>\n",
              "    </tr>\n",
              "    <tr>\n",
              "      <th>Date</th>\n",
              "      <th></th>\n",
              "    </tr>\n",
              "  </thead>\n",
              "  <tbody>\n",
              "    <tr>\n",
              "      <th>2020-01-02 00:00:00-05:00</th>\n",
              "      <td>143.949997</td>\n",
              "    </tr>\n",
              "    <tr>\n",
              "      <th>2020-01-03 00:00:00-05:00</th>\n",
              "      <td>145.860001</td>\n",
              "    </tr>\n",
              "    <tr>\n",
              "      <th>2020-01-06 00:00:00-05:00</th>\n",
              "      <td>147.389999</td>\n",
              "    </tr>\n",
              "    <tr>\n",
              "      <th>2020-01-07 00:00:00-05:00</th>\n",
              "      <td>147.970001</td>\n",
              "    </tr>\n",
              "    <tr>\n",
              "      <th>2020-01-08 00:00:00-05:00</th>\n",
              "      <td>146.860001</td>\n",
              "    </tr>\n",
              "  </tbody>\n",
              "</table>\n",
              "</div>\n",
              "      <button class=\"colab-df-convert\" onclick=\"convertToInteractive('df-a8425754-b87b-4764-af0e-fa3df54b984e')\"\n",
              "              title=\"Convert this dataframe to an interactive table.\"\n",
              "              style=\"display:none;\">\n",
              "        \n",
              "  <svg xmlns=\"http://www.w3.org/2000/svg\" height=\"24px\"viewBox=\"0 0 24 24\"\n",
              "       width=\"24px\">\n",
              "    <path d=\"M0 0h24v24H0V0z\" fill=\"none\"/>\n",
              "    <path d=\"M18.56 5.44l.94 2.06.94-2.06 2.06-.94-2.06-.94-.94-2.06-.94 2.06-2.06.94zm-11 1L8.5 8.5l.94-2.06 2.06-.94-2.06-.94L8.5 2.5l-.94 2.06-2.06.94zm10 10l.94 2.06.94-2.06 2.06-.94-2.06-.94-.94-2.06-.94 2.06-2.06.94z\"/><path d=\"M17.41 7.96l-1.37-1.37c-.4-.4-.92-.59-1.43-.59-.52 0-1.04.2-1.43.59L10.3 9.45l-7.72 7.72c-.78.78-.78 2.05 0 2.83L4 21.41c.39.39.9.59 1.41.59.51 0 1.02-.2 1.41-.59l7.78-7.78 2.81-2.81c.8-.78.8-2.07 0-2.86zM5.41 20L4 18.59l7.72-7.72 1.47 1.35L5.41 20z\"/>\n",
              "  </svg>\n",
              "      </button>\n",
              "      \n",
              "  <style>\n",
              "    .colab-df-container {\n",
              "      display:flex;\n",
              "      flex-wrap:wrap;\n",
              "      gap: 12px;\n",
              "    }\n",
              "\n",
              "    .colab-df-convert {\n",
              "      background-color: #E8F0FE;\n",
              "      border: none;\n",
              "      border-radius: 50%;\n",
              "      cursor: pointer;\n",
              "      display: none;\n",
              "      fill: #1967D2;\n",
              "      height: 32px;\n",
              "      padding: 0 0 0 0;\n",
              "      width: 32px;\n",
              "    }\n",
              "\n",
              "    .colab-df-convert:hover {\n",
              "      background-color: #E2EBFA;\n",
              "      box-shadow: 0px 1px 2px rgba(60, 64, 67, 0.3), 0px 1px 3px 1px rgba(60, 64, 67, 0.15);\n",
              "      fill: #174EA6;\n",
              "    }\n",
              "\n",
              "    [theme=dark] .colab-df-convert {\n",
              "      background-color: #3B4455;\n",
              "      fill: #D2E3FC;\n",
              "    }\n",
              "\n",
              "    [theme=dark] .colab-df-convert:hover {\n",
              "      background-color: #434B5C;\n",
              "      box-shadow: 0px 1px 3px 1px rgba(0, 0, 0, 0.15);\n",
              "      filter: drop-shadow(0px 1px 2px rgba(0, 0, 0, 0.3));\n",
              "      fill: #FFFFFF;\n",
              "    }\n",
              "  </style>\n",
              "\n",
              "      <script>\n",
              "        const buttonEl =\n",
              "          document.querySelector('#df-a8425754-b87b-4764-af0e-fa3df54b984e button.colab-df-convert');\n",
              "        buttonEl.style.display =\n",
              "          google.colab.kernel.accessAllowed ? 'block' : 'none';\n",
              "\n",
              "        async function convertToInteractive(key) {\n",
              "          const element = document.querySelector('#df-a8425754-b87b-4764-af0e-fa3df54b984e');\n",
              "          const dataTable =\n",
              "            await google.colab.kernel.invokeFunction('convertToInteractive',\n",
              "                                                     [key], {});\n",
              "          if (!dataTable) return;\n",
              "\n",
              "          const docLinkHtml = 'Like what you see? Visit the ' +\n",
              "            '<a target=\"_blank\" href=https://colab.research.google.com/notebooks/data_table.ipynb>data table notebook</a>'\n",
              "            + ' to learn more about interactive tables.';\n",
              "          element.innerHTML = '';\n",
              "          dataTable['output_type'] = 'display_data';\n",
              "          await google.colab.output.renderOutput(dataTable, element);\n",
              "          const docLink = document.createElement('div');\n",
              "          docLink.innerHTML = docLinkHtml;\n",
              "          element.appendChild(docLink);\n",
              "        }\n",
              "      </script>\n",
              "    </div>\n",
              "  </div>\n",
              "  "
            ]
          },
          "metadata": {},
          "execution_count": 6
        }
      ]
    },
    {
      "cell_type": "code",
      "source": [
        "#Calculating logarithmic return\n",
        "log_returns = (np.log(df) -np.log(df.shift(1))).dropna()"
      ],
      "metadata": {
        "id": "XjyZJfftuoop"
      },
      "execution_count": null,
      "outputs": []
    },
    {
      "cell_type": "code",
      "source": [
        "log_returns.head()"
      ],
      "metadata": {
        "colab": {
          "base_uri": "https://localhost:8080/",
          "height": 237
        },
        "id": "9bkoP4vduo2c",
        "outputId": "504c26f5-52c3-4c1b-a3e8-7c9a8d02f1d5"
      },
      "execution_count": null,
      "outputs": [
        {
          "output_type": "execute_result",
          "data": {
            "text/plain": [
              "                              Close\n",
              "Date                               \n",
              "2020-01-03 00:00:00-05:00  0.013181\n",
              "2020-01-06 00:00:00-05:00  0.010435\n",
              "2020-01-07 00:00:00-05:00  0.003927\n",
              "2020-01-08 00:00:00-05:00 -0.007530\n",
              "2020-01-09 00:00:00-05:00 -0.005668"
            ],
            "text/html": [
              "\n",
              "  <div id=\"df-7c38c212-0f2d-4ba4-8598-eb5bc6dae700\">\n",
              "    <div class=\"colab-df-container\">\n",
              "      <div>\n",
              "<style scoped>\n",
              "    .dataframe tbody tr th:only-of-type {\n",
              "        vertical-align: middle;\n",
              "    }\n",
              "\n",
              "    .dataframe tbody tr th {\n",
              "        vertical-align: top;\n",
              "    }\n",
              "\n",
              "    .dataframe thead th {\n",
              "        text-align: right;\n",
              "    }\n",
              "</style>\n",
              "<table border=\"1\" class=\"dataframe\">\n",
              "  <thead>\n",
              "    <tr style=\"text-align: right;\">\n",
              "      <th></th>\n",
              "      <th>Close</th>\n",
              "    </tr>\n",
              "    <tr>\n",
              "      <th>Date</th>\n",
              "      <th></th>\n",
              "    </tr>\n",
              "  </thead>\n",
              "  <tbody>\n",
              "    <tr>\n",
              "      <th>2020-01-03 00:00:00-05:00</th>\n",
              "      <td>0.013181</td>\n",
              "    </tr>\n",
              "    <tr>\n",
              "      <th>2020-01-06 00:00:00-05:00</th>\n",
              "      <td>0.010435</td>\n",
              "    </tr>\n",
              "    <tr>\n",
              "      <th>2020-01-07 00:00:00-05:00</th>\n",
              "      <td>0.003927</td>\n",
              "    </tr>\n",
              "    <tr>\n",
              "      <th>2020-01-08 00:00:00-05:00</th>\n",
              "      <td>-0.007530</td>\n",
              "    </tr>\n",
              "    <tr>\n",
              "      <th>2020-01-09 00:00:00-05:00</th>\n",
              "      <td>-0.005668</td>\n",
              "    </tr>\n",
              "  </tbody>\n",
              "</table>\n",
              "</div>\n",
              "      <button class=\"colab-df-convert\" onclick=\"convertToInteractive('df-7c38c212-0f2d-4ba4-8598-eb5bc6dae700')\"\n",
              "              title=\"Convert this dataframe to an interactive table.\"\n",
              "              style=\"display:none;\">\n",
              "        \n",
              "  <svg xmlns=\"http://www.w3.org/2000/svg\" height=\"24px\"viewBox=\"0 0 24 24\"\n",
              "       width=\"24px\">\n",
              "    <path d=\"M0 0h24v24H0V0z\" fill=\"none\"/>\n",
              "    <path d=\"M18.56 5.44l.94 2.06.94-2.06 2.06-.94-2.06-.94-.94-2.06-.94 2.06-2.06.94zm-11 1L8.5 8.5l.94-2.06 2.06-.94-2.06-.94L8.5 2.5l-.94 2.06-2.06.94zm10 10l.94 2.06.94-2.06 2.06-.94-2.06-.94-.94-2.06-.94 2.06-2.06.94z\"/><path d=\"M17.41 7.96l-1.37-1.37c-.4-.4-.92-.59-1.43-.59-.52 0-1.04.2-1.43.59L10.3 9.45l-7.72 7.72c-.78.78-.78 2.05 0 2.83L4 21.41c.39.39.9.59 1.41.59.51 0 1.02-.2 1.41-.59l7.78-7.78 2.81-2.81c.8-.78.8-2.07 0-2.86zM5.41 20L4 18.59l7.72-7.72 1.47 1.35L5.41 20z\"/>\n",
              "  </svg>\n",
              "      </button>\n",
              "      \n",
              "  <style>\n",
              "    .colab-df-container {\n",
              "      display:flex;\n",
              "      flex-wrap:wrap;\n",
              "      gap: 12px;\n",
              "    }\n",
              "\n",
              "    .colab-df-convert {\n",
              "      background-color: #E8F0FE;\n",
              "      border: none;\n",
              "      border-radius: 50%;\n",
              "      cursor: pointer;\n",
              "      display: none;\n",
              "      fill: #1967D2;\n",
              "      height: 32px;\n",
              "      padding: 0 0 0 0;\n",
              "      width: 32px;\n",
              "    }\n",
              "\n",
              "    .colab-df-convert:hover {\n",
              "      background-color: #E2EBFA;\n",
              "      box-shadow: 0px 1px 2px rgba(60, 64, 67, 0.3), 0px 1px 3px 1px rgba(60, 64, 67, 0.15);\n",
              "      fill: #174EA6;\n",
              "    }\n",
              "\n",
              "    [theme=dark] .colab-df-convert {\n",
              "      background-color: #3B4455;\n",
              "      fill: #D2E3FC;\n",
              "    }\n",
              "\n",
              "    [theme=dark] .colab-df-convert:hover {\n",
              "      background-color: #434B5C;\n",
              "      box-shadow: 0px 1px 3px 1px rgba(0, 0, 0, 0.15);\n",
              "      filter: drop-shadow(0px 1px 2px rgba(0, 0, 0, 0.3));\n",
              "      fill: #FFFFFF;\n",
              "    }\n",
              "  </style>\n",
              "\n",
              "      <script>\n",
              "        const buttonEl =\n",
              "          document.querySelector('#df-7c38c212-0f2d-4ba4-8598-eb5bc6dae700 button.colab-df-convert');\n",
              "        buttonEl.style.display =\n",
              "          google.colab.kernel.accessAllowed ? 'block' : 'none';\n",
              "\n",
              "        async function convertToInteractive(key) {\n",
              "          const element = document.querySelector('#df-7c38c212-0f2d-4ba4-8598-eb5bc6dae700');\n",
              "          const dataTable =\n",
              "            await google.colab.kernel.invokeFunction('convertToInteractive',\n",
              "                                                     [key], {});\n",
              "          if (!dataTable) return;\n",
              "\n",
              "          const docLinkHtml = 'Like what you see? Visit the ' +\n",
              "            '<a target=\"_blank\" href=https://colab.research.google.com/notebooks/data_table.ipynb>data table notebook</a>'\n",
              "            + ' to learn more about interactive tables.';\n",
              "          element.innerHTML = '';\n",
              "          dataTable['output_type'] = 'display_data';\n",
              "          await google.colab.output.renderOutput(dataTable, element);\n",
              "          const docLink = document.createElement('div');\n",
              "          docLink.innerHTML = docLinkHtml;\n",
              "          element.appendChild(docLink);\n",
              "        }\n",
              "      </script>\n",
              "    </div>\n",
              "  </div>\n",
              "  "
            ]
          },
          "metadata": {},
          "execution_count": 8
        }
      ]
    },
    {
      "cell_type": "code",
      "source": [
        "# Drawing random numbers for weights\n",
        "# Generating weights\n",
        "gld_returns_mean = log_returns.mean()\n",
        "weights = np.random.random(len(log_returns.columns))\n",
        "weights /= np.sum(weights)\n",
        "#calculating covariance\n",
        "cov_var = log_returns.cov()\n",
        "# standard deviation\n",
        "gld_std = np.sqrt(weights.T.dot(cov_var).dot(weights))\n"
      ],
      "metadata": {
        "id": "JZfy7qwUuo5Y"
      },
      "execution_count": null,
      "outputs": []
    },
    {
      "cell_type": "code",
      "source": [
        "def VaR_parametric(initial_investment, conf_level):\n",
        "  alpha = norm.ppf(1 - conf_level,gld_returns_mean, gld_std)\n",
        "  \n",
        "  ## portfolio\n",
        "  # for i, j in zip(stocks.columns,range(len(stocks.columns))):\n",
        "  #   VaR_param = (initial_investment -initial_investment *(1 + alpha))[j]\n",
        "  #   print(\"Parametric VaR result for {} is {} \".format(i, VaR_param))\n",
        "    \n",
        "  VaR_param = (initial_investment - initial_investment* (1 + alpha))\n",
        "\n",
        "  return VaR_param"
      ],
      "metadata": {
        "id": "lJAF05rauo8J"
      },
      "execution_count": null,
      "outputs": []
    },
    {
      "cell_type": "code",
      "source": [
        " initial_investment = 1e6\n",
        " conf_level = 0.95\n",
        "\n",
        " VaR_param = VaR_parametric(initial_investment,conf_level)\n",
        " print(VaR_param)"
      ],
      "metadata": {
        "colab": {
          "base_uri": "https://localhost:8080/"
        },
        "id": "5SfGG2scuo-2",
        "outputId": "69174b77-dd70-4779-c0ca-1e29c1ec10d1"
      },
      "execution_count": null,
      "outputs": [
        {
          "output_type": "stream",
          "name": "stdout",
          "text": [
            "[16609.82536852]\n"
          ]
        }
      ]
    },
    {
      "cell_type": "markdown",
      "source": [
        "#### Estimating the variance-covariance VaR model\n",
        "\n",
        "VaR changes depending on the time horizon in the sense that holding assets\n",
        "for a longer period makes an investor more susceptible to risk. As shown in\n",
        "Figure 5-2, VaR increases in relation to holding time by the amount of √t.\n",
        "Additionally, the holding period is the longest period for portfolio\n",
        "liquidation. Taking into account the reporting purpose, a 30-day period may\n",
        "be a more suitable one for an investor"
      ],
      "metadata": {
        "id": "9lA0hlodz9VU"
      }
    },
    {
      "cell_type": "code",
      "source": [
        "var_horizon = []\n",
        "time_horizon = 30\n",
        "\n",
        "\n",
        "for i in range(1, time_horizon + 1):\n",
        "  var_horizon.append(VaR_param * np.sqrt(i))\n",
        "\n",
        "\n",
        "plt.plot(var_horizon[:time_horizon], \"o\",c='blue')\n",
        "plt.xlabel(\"Days\")\n",
        "plt.ylabel(\"USD\")\n",
        "plt.title(\"VaR over 30-day period for GOLD Prices using variance-covariance method\")\n",
        "plt.legend()\n",
        "plt.show()"
      ],
      "metadata": {
        "colab": {
          "base_uri": "https://localhost:8080/",
          "height": 427
        },
        "id": "c468H1ynupCT",
        "outputId": "232e7630-54a9-4b3a-962d-d6813080976c"
      },
      "execution_count": null,
      "outputs": [
        {
          "output_type": "stream",
          "name": "stderr",
          "text": [
            "WARNING:matplotlib.legend:No handles with labels found to put in legend.\n"
          ]
        },
        {
          "output_type": "display_data",
          "data": {
            "text/plain": [
              "<Figure size 720x432 with 1 Axes>"
            ],
            "image/png": "[encoded data removed]"
          },
          "metadata": {}
        }
      ]
    },
    {
      "cell_type": "markdown",
      "source": [
        "### **2. Historical Simulation Method**\n"
      ],
      "metadata": {
        "id": "i5MWxSsA28MG"
      }
    },
    {
      "cell_type": "markdown",
      "source": [
        "Having assumptions like, normally distributed data, may lead to inaccurate prediction. Historical Simulation Method is an empirical method: instead of using a parametric\n",
        "approach, here we find the percentile, which is the Z-table equivalent of\n",
        "variance-covariance method."
      ],
      "metadata": {
        "id": "7vfl-6jM3K0u"
      }
    },
    {
      "cell_type": "code",
      "source": [
        "###Calculating the 95% percentile of gold returns\n",
        "def VaR_historical(initial_investment, conf_level):\n",
        "  Hist_percentile95 =np.percentile(log_returns,5)\n",
        "\n",
        "  return Hist_percentile95"
      ],
      "metadata": {
        "id": "pBRHPHeV2xUD"
      },
      "execution_count": null,
      "outputs": []
    },
    {
      "cell_type": "code",
      "source": [
        "initial_investment = 1e6\n",
        "conf_level = 0.95\n",
        "\n",
        "Hist_percentile95 = VaR_historical(initial_investment, conf_level)\n",
        "VaR_historical = (initial_investment -initial_investment *(1 + Hist_percentile95))"
      ],
      "metadata": {
        "id": "NANdwanKupFn"
      },
      "execution_count": null,
      "outputs": []
    },
    {
      "cell_type": "code",
      "source": [
        "print(VaR_historical)"
      ],
      "metadata": {
        "colab": {
          "base_uri": "https://localhost:8080/"
        },
        "id": "fFgMhp8XupIg",
        "outputId": "0f607c33-5b25-4840-802b-1836bb3163ca"
      },
      "execution_count": null,
      "outputs": [
        {
          "output_type": "stream",
          "name": "stdout",
          "text": [
            "17264.906038381043\n"
          ]
        }
      ]
    },
    {
      "cell_type": "code",
      "source": [
        "### risk over time in Historical Simulation Method\n",
        "var_horizon = []\n",
        "time_horizon = 30\n",
        "\n",
        "\n",
        "for i in range(1, time_horizon + 1):\n",
        "  var_horizon.append(VaR_historical* np.sqrt(i))\n",
        "\n",
        "\n",
        "plt.plot(var_horizon[:time_horizon], \"o\",c='red')\n",
        "plt.xlabel(\"Days\")\n",
        "plt.ylabel(\"USD\")\n",
        "plt.title(\"VaR over 30-day period for GOLD Prices using Historical Simulation Method\")\n",
        "plt.legend()\n",
        "plt.show()"
      ],
      "metadata": {
        "colab": {
          "base_uri": "https://localhost:8080/",
          "height": 427
        },
        "id": "fDQfX_T7upLy",
        "outputId": "cffa8347-718e-4135-eb5e-bb0ca04fd3e1"
      },
      "execution_count": null,
      "outputs": [
        {
          "output_type": "stream",
          "name": "stderr",
          "text": [
            "WARNING:matplotlib.legend:No handles with labels found to put in legend.\n"
          ]
        },
        {
          "output_type": "display_data",
          "data": {
            "text/plain": [
              "<Figure size 720x432 with 1 Axes>"
            ],
            "image/png": "[encoded data removed]"
          },
          "metadata": {}
        }
      ]
    },
    {
      "cell_type": "markdown",
      "source": [
        "### **3.  Monte Carlo Simulation VaR**"
      ],
      "metadata": {
        "id": "rclkqG3F6EM7"
      }
    },
    {
      "cell_type": "markdown",
      "source": [
        "Monte Carlo is a highly efficient tool for\n",
        "numerical approximation. Monte Carlo relies on repeated random samples\n",
        "from a given distribution."
      ],
      "metadata": {
        "id": "tnglEhjp7OcI"
      }
    },
    {
      "cell_type": "code",
      "source": [
        "num_reps = 1000\n",
        "\n",
        "n=100\n",
        "\n",
        "mean = np.random.randn(n).mean()\n",
        "std = np.random.randn(n).std()\n",
        "sim_data = pd.DataFrame(np.random.normal(mean, std,num_reps))\n"
      ],
      "metadata": {
        "id": "hQfhTw2S53oM"
      },
      "execution_count": null,
      "outputs": []
    },
    {
      "cell_type": "code",
      "source": [
        "sim_data.head()"
      ],
      "metadata": {
        "colab": {
          "base_uri": "https://localhost:8080/",
          "height": 206
        },
        "id": "Tnwl3XO9upPB",
        "outputId": "d82d616d-3d50-4a6e-9a7b-1efb17c957ef"
      },
      "execution_count": null,
      "outputs": [
        {
          "output_type": "execute_result",
          "data": {
            "text/plain": [
              "          0\n",
              "0 -0.422548\n",
              "1 -0.279283\n",
              "2 -1.326157\n",
              "3 -0.867644\n",
              "4 -0.501110"
            ],
            "text/html": [
              "\n",
              "  <div id=\"df-c9203e9b-0f65-42d9-ba0b-f6cbc5c7b5b0\">\n",
              "    <div class=\"colab-df-container\">\n",
              "      <div>\n",
              "<style scoped>\n",
              "    .dataframe tbody tr th:only-of-type {\n",
              "        vertical-align: middle;\n",
              "    }\n",
              "\n",
              "    .dataframe tbody tr th {\n",
              "        vertical-align: top;\n",
              "    }\n",
              "\n",
              "    .dataframe thead th {\n",
              "        text-align: right;\n",
              "    }\n",
              "</style>\n",
              "<table border=\"1\" class=\"dataframe\">\n",
              "  <thead>\n",
              "    <tr style=\"text-align: right;\">\n",
              "      <th></th>\n",
              "      <th>0</th>\n",
              "    </tr>\n",
              "  </thead>\n",
              "  <tbody>\n",
              "    <tr>\n",
              "      <th>0</th>\n",
              "      <td>-0.422548</td>\n",
              "    </tr>\n",
              "    <tr>\n",
              "      <th>1</th>\n",
              "      <td>-0.279283</td>\n",
              "    </tr>\n",
              "    <tr>\n",
              "      <th>2</th>\n",
              "      <td>-1.326157</td>\n",
              "    </tr>\n",
              "    <tr>\n",
              "      <th>3</th>\n",
              "      <td>-0.867644</td>\n",
              "    </tr>\n",
              "    <tr>\n",
              "      <th>4</th>\n",
              "      <td>-0.501110</td>\n",
              "    </tr>\n",
              "  </tbody>\n",
              "</table>\n",
              "</div>\n",
              "      <button class=\"colab-df-convert\" onclick=\"convertToInteractive('df-c9203e9b-0f65-42d9-ba0b-f6cbc5c7b5b0')\"\n",
              "              title=\"Convert this dataframe to an interactive table.\"\n",
              "              style=\"display:none;\">\n",
              "        \n",
              "  <svg xmlns=\"http://www.w3.org/2000/svg\" height=\"24px\"viewBox=\"0 0 24 24\"\n",
              "       width=\"24px\">\n",
              "    <path d=\"M0 0h24v24H0V0z\" fill=\"none\"/>\n",
              "    <path d=\"M18.56 5.44l.94 2.06.94-2.06 2.06-.94-2.06-.94-.94-2.06-.94 2.06-2.06.94zm-11 1L8.5 8.5l.94-2.06 2.06-.94-2.06-.94L8.5 2.5l-.94 2.06-2.06.94zm10 10l.94 2.06.94-2.06 2.06-.94-2.06-.94-.94-2.06-.94 2.06-2.06.94z\"/><path d=\"M17.41 7.96l-1.37-1.37c-.4-.4-.92-.59-1.43-.59-.52 0-1.04.2-1.43.59L10.3 9.45l-7.72 7.72c-.78.78-.78 2.05 0 2.83L4 21.41c.39.39.9.59 1.41.59.51 0 1.02-.2 1.41-.59l7.78-7.78 2.81-2.81c.8-.78.8-2.07 0-2.86zM5.41 20L4 18.59l7.72-7.72 1.47 1.35L5.41 20z\"/>\n",
              "  </svg>\n",
              "      </button>\n",
              "      \n",
              "  <style>\n",
              "    .colab-df-container {\n",
              "      display:flex;\n",
              "      flex-wrap:wrap;\n",
              "      gap: 12px;\n",
              "    }\n",
              "\n",
              "    .colab-df-convert {\n",
              "      background-color: #E8F0FE;\n",
              "      border: none;\n",
              "      border-radius: 50%;\n",
              "      cursor: pointer;\n",
              "      display: none;\n",
              "      fill: #1967D2;\n",
              "      height: 32px;\n",
              "      padding: 0 0 0 0;\n",
              "      width: 32px;\n",
              "    }\n",
              "\n",
              "    .colab-df-convert:hover {\n",
              "      background-color: #E2EBFA;\n",
              "      box-shadow: 0px 1px 2px rgba(60, 64, 67, 0.3), 0px 1px 3px 1px rgba(60, 64, 67, 0.15);\n",
              "      fill: #174EA6;\n",
              "    }\n",
              "\n",
              "    [theme=dark] .colab-df-convert {\n",
              "      background-color: #3B4455;\n",
              "      fill: #D2E3FC;\n",
              "    }\n",
              "\n",
              "    [theme=dark] .colab-df-convert:hover {\n",
              "      background-color: #434B5C;\n",
              "      box-shadow: 0px 1px 3px 1px rgba(0, 0, 0, 0.15);\n",
              "      filter: drop-shadow(0px 1px 2px rgba(0, 0, 0, 0.3));\n",
              "      fill: #FFFFFF;\n",
              "    }\n",
              "  </style>\n",
              "\n",
              "      <script>\n",
              "        const buttonEl =\n",
              "          document.querySelector('#df-c9203e9b-0f65-42d9-ba0b-f6cbc5c7b5b0 button.colab-df-convert');\n",
              "        buttonEl.style.display =\n",
              "          google.colab.kernel.accessAllowed ? 'block' : 'none';\n",
              "\n",
              "        async function convertToInteractive(key) {\n",
              "          const element = document.querySelector('#df-c9203e9b-0f65-42d9-ba0b-f6cbc5c7b5b0');\n",
              "          const dataTable =\n",
              "            await google.colab.kernel.invokeFunction('convertToInteractive',\n",
              "                                                     [key], {});\n",
              "          if (!dataTable) return;\n",
              "\n",
              "          const docLinkHtml = 'Like what you see? Visit the ' +\n",
              "            '<a target=\"_blank\" href=https://colab.research.google.com/notebooks/data_table.ipynb>data table notebook</a>'\n",
              "            + ' to learn more about interactive tables.';\n",
              "          element.innerHTML = '';\n",
              "          dataTable['output_type'] = 'display_data';\n",
              "          await google.colab.output.renderOutput(dataTable, element);\n",
              "          const docLink = document.createElement('div');\n",
              "          docLink.innerHTML = docLinkHtml;\n",
              "          element.appendChild(docLink);\n",
              "        }\n",
              "      </script>\n",
              "    </div>\n",
              "  </div>\n",
              "  "
            ]
          },
          "metadata": {},
          "execution_count": 18
        }
      ]
    },
    {
      "cell_type": "code",
      "source": [
        "###Calculating the 95% percentile of gold returns\n",
        "def MC_VaR(initial_investment, conf_level):\n",
        "  MC_percentile95 =np.percentile(sim_data,5)\n",
        "\n",
        "  return MC_percentile95"
      ],
      "metadata": {
        "id": "XdViqyBR9P5m"
      },
      "execution_count": null,
      "outputs": []
    },
    {
      "cell_type": "code",
      "source": [
        "initial_investment = 1e6\n",
        "conf_level = 0.95\n",
        "\n",
        "MC_percentile95 = MC_VaR(initial_investment, conf_level)\n",
        "VaR_MC = (initial_investment -initial_investment *(1 + MC_percentile95))\n",
        "\n",
        "print(VaR_MC)"
      ],
      "metadata": {
        "colab": {
          "base_uri": "https://localhost:8080/"
        },
        "id": "UNmOaGIe-Ana",
        "outputId": "5e4e262a-9f27-48b4-eaa2-c0f6d1409661"
      },
      "execution_count": null,
      "outputs": [
        {
          "output_type": "stream",
          "name": "stdout",
          "text": [
            "1524634.0517096554\n"
          ]
        }
      ]
    }
  ]
}